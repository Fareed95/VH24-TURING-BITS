{
 "cells": [
  {
   "cell_type": "code",
   "execution_count": 10,
   "metadata": {},
   "outputs": [
    {
     "name": "stdout",
     "output_type": "stream",
     "text": [
      "Requirement already satisfied: pyzbar in /home/fareed-sayed/Documents/Nutriscan/venv/lib/python3.12/site-packages (0.1.9)\n",
      "Requirement already satisfied: opencv-python in /home/fareed-sayed/Documents/Nutriscan/venv/lib/python3.12/site-packages (4.10.0.84)\n",
      "Requirement already satisfied: joblib in /home/fareed-sayed/Documents/Nutriscan/venv/lib/python3.12/site-packages (1.4.2)\n",
      "Requirement already satisfied: numpy>=1.21.2 in /home/fareed-sayed/Documents/Nutriscan/venv/lib/python3.12/site-packages (from opencv-python) (2.1.1)\n"
     ]
    }
   ],
   "source": [
    "!pip install pyzbar opencv-python joblib\n"
   ]
  },
  {
   "cell_type": "code",
   "execution_count": 11,
   "metadata": {},
   "outputs": [],
   "source": [
    "import cv2\n",
    "from pyzbar.pyzbar import decode\n",
    "import joblib\n",
    "import os\n"
   ]
  },
  {
   "cell_type": "code",
   "execution_count": 12,
   "metadata": {},
   "outputs": [],
   "source": [
    "def scan_barcode(image_path):\n",
    "    # Load the image\n",
    "    img = cv2.imread(image_path)\n",
    "    \n",
    "    # Decode the barcode using pyzbar\n",
    "    decoded_objects = decode(img)\n",
    "    \n",
    "    barcodes = []\n",
    "    \n",
    "    for obj in decoded_objects:\n",
    "        barcode_data = obj.data.decode('utf-8')\n",
    "        barcodes.append(barcode_data)\n",
    "    \n",
    "    return barcodes"
   ]
  },
  {
   "cell_type": "code",
   "execution_count": 13,
   "metadata": {},
   "outputs": [
    {
     "name": "stdout",
     "output_type": "stream",
     "text": [
      "['8901719130144']\n"
     ]
    }
   ],
   "source": [
    "image_path = 'barcodes.jpeg'  # Replace with your image path\n",
    "barcodes = scan_barcode(image_path)\n",
    "print(barcodes)\n"
   ]
  },
  {
   "cell_type": "code",
   "execution_count": 14,
   "metadata": {},
   "outputs": [],
   "source": [
    "# Save the barcode scanning function (or any model)\n",
    "joblib.dump(scan_barcode, 'barcode_scanner.pkl')\n",
    "\n",
    "# To load it later\n",
    "barcode_scanner = joblib.load('barcode_scanner.pkl')\n"
   ]
  },
  {
   "cell_type": "code",
   "execution_count": 15,
   "metadata": {},
   "outputs": [
    {
     "name": "stdout",
     "output_type": "stream",
     "text": [
      "['8901719130144']\n"
     ]
    }
   ],
   "source": [
    "# You can now use the loaded model\n",
    "barcodes = barcode_scanner(image_path)\n",
    "print(barcodes)\n"
   ]
  }
 ],
 "metadata": {
  "kernelspec": {
   "display_name": "venv",
   "language": "python",
   "name": "python3"
  },
  "language_info": {
   "codemirror_mode": {
    "name": "ipython",
    "version": 3
   },
   "file_extension": ".py",
   "mimetype": "text/x-python",
   "name": "python",
   "nbconvert_exporter": "python",
   "pygments_lexer": "ipython3",
   "version": "3.12.3"
  }
 },
 "nbformat": 4,
 "nbformat_minor": 2
}
