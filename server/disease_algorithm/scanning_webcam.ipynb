{
 "cells": [
  {
   "cell_type": "code",
   "execution_count": 1,
   "metadata": {},
   "outputs": [
    {
     "name": "stdout",
     "output_type": "stream",
     "text": [
      "Requirement already satisfied: opencv-python in /home/fareed-sayed/Documents/Nutriscan/venv/lib/python3.12/site-packages (4.10.0.84)\n",
      "Requirement already satisfied: pyzbar in /home/fareed-sayed/Documents/Nutriscan/venv/lib/python3.12/site-packages (0.1.9)\n",
      "Requirement already satisfied: numpy>=1.21.2 in /home/fareed-sayed/Documents/Nutriscan/venv/lib/python3.12/site-packages (from opencv-python) (2.1.1)\n"
     ]
    }
   ],
   "source": [
    "!pip install opencv-python pyzbar\n"
   ]
  },
  {
   "cell_type": "code",
   "execution_count": 3,
   "metadata": {},
   "outputs": [],
   "source": [
    "def live_barcode_scanner(device_index=0):\n",
    "    \"\"\"\n",
    "    Scans for barcodes from a live camera feed.\n",
    "    \n",
    "    Args:\n",
    "        device_index (int): The index of the video capture device. Default is 0.\n",
    "    \n",
    "    Returns:\n",
    "        list: A list of detected barcodes.\n",
    "    \"\"\"\n",
    "    # Start video capture (using the provided device index)\n",
    "    cap = cv2.VideoCapture(device_index)\n",
    "    \n",
    "    detected_barcodes = []\n",
    "    \n",
    "    while True:\n",
    "        # Capture each frame\n",
    "        ret, frame = cap.read()\n",
    "        \n",
    "        if not ret:\n",
    "            print(\"Failed to capture image\")\n",
    "            break\n",
    "        \n",
    "        # Decode barcodes in the current frame\n",
    "        decoded_objects = decode(frame)\n",
    "        \n",
    "        # If a barcode is detected, store it and draw a rectangle around it\n",
    "        for obj in decoded_objects:\n",
    "            barcode_data = obj.data.decode('utf-8')\n",
    "            detected_barcodes.append(barcode_data)\n",
    "            \n",
    "            # Draw a rectangle around the barcode\n",
    "            points = obj.polygon\n",
    "            if len(points) == 4:\n",
    "                pts = [tuple(point) for point in points]\n",
    "                cv2.polylines(frame, [np.array(pts, dtype=np.int32)], True, (0, 255, 0), 3)\n",
    "            \n",
    "            # Put the barcode data text on the frame\n",
    "            cv2.putText(frame, barcode_data, (pts[0][0], pts[0][1] - 10), cv2.FONT_HERSHEY_SIMPLEX, 0.9, (0, 255, 0), 2)\n",
    "        \n",
    "        # Display the frame with the detected barcode\n",
    "        cv2.imshow('Barcode Scanner', frame)\n",
    "        \n",
    "        # Exit if the barcode is detected or the user presses 'q'\n",
    "        if len(detected_barcodes) > 0 or cv2.waitKey(1) & 0xFF == ord('q'):\n",
    "            break\n",
    "    \n",
    "    # Release the video capture and close the window\n",
    "    cap.release()\n",
    "    cv2.destroyAllWindows()\n",
    "    \n",
    "    return detected_barcodes\n"
   ]
  },
  {
   "cell_type": "code",
   "execution_count": 4,
   "metadata": {},
   "outputs": [
    {
     "ename": "UnboundLocalError",
     "evalue": "cannot access local variable 'pts' where it is not associated with a value",
     "output_type": "error",
     "traceback": [
      "\u001b[0;31m---------------------------------------------------------------------------\u001b[0m",
      "\u001b[0;31mUnboundLocalError\u001b[0m                         Traceback (most recent call last)",
      "Cell \u001b[0;32mIn[4], line 1\u001b[0m\n\u001b[0;32m----> 1\u001b[0m barcodes \u001b[38;5;241m=\u001b[39m \u001b[43mlive_barcode_scanner\u001b[49m\u001b[43m(\u001b[49m\u001b[38;5;241;43m2\u001b[39;49m\u001b[43m)\u001b[49m  \u001b[38;5;66;03m# Use 2 for /dev/video2\u001b[39;00m\n\u001b[1;32m      2\u001b[0m \u001b[38;5;28mprint\u001b[39m(\u001b[38;5;124m\"\u001b[39m\u001b[38;5;124mDetected barcodes:\u001b[39m\u001b[38;5;124m\"\u001b[39m, barcodes)\n",
      "Cell \u001b[0;32mIn[3], line 39\u001b[0m, in \u001b[0;36mlive_barcode_scanner\u001b[0;34m(device_index)\u001b[0m\n\u001b[1;32m     36\u001b[0m         cv2\u001b[38;5;241m.\u001b[39mpolylines(frame, [np\u001b[38;5;241m.\u001b[39marray(pts, dtype\u001b[38;5;241m=\u001b[39mnp\u001b[38;5;241m.\u001b[39mint32)], \u001b[38;5;28;01mTrue\u001b[39;00m, (\u001b[38;5;241m0\u001b[39m, \u001b[38;5;241m255\u001b[39m, \u001b[38;5;241m0\u001b[39m), \u001b[38;5;241m3\u001b[39m)\n\u001b[1;32m     38\u001b[0m     \u001b[38;5;66;03m# Put the barcode data text on the frame\u001b[39;00m\n\u001b[0;32m---> 39\u001b[0m     cv2\u001b[38;5;241m.\u001b[39mputText(frame, barcode_data, (\u001b[43mpts\u001b[49m[\u001b[38;5;241m0\u001b[39m][\u001b[38;5;241m0\u001b[39m], pts[\u001b[38;5;241m0\u001b[39m][\u001b[38;5;241m1\u001b[39m] \u001b[38;5;241m-\u001b[39m \u001b[38;5;241m10\u001b[39m), cv2\u001b[38;5;241m.\u001b[39mFONT_HERSHEY_SIMPLEX, \u001b[38;5;241m0.9\u001b[39m, (\u001b[38;5;241m0\u001b[39m, \u001b[38;5;241m255\u001b[39m, \u001b[38;5;241m0\u001b[39m), \u001b[38;5;241m2\u001b[39m)\n\u001b[1;32m     41\u001b[0m \u001b[38;5;66;03m# Display the frame with the detected barcode\u001b[39;00m\n\u001b[1;32m     42\u001b[0m cv2\u001b[38;5;241m.\u001b[39mimshow(\u001b[38;5;124m'\u001b[39m\u001b[38;5;124mBarcode Scanner\u001b[39m\u001b[38;5;124m'\u001b[39m, frame)\n",
      "\u001b[0;31mUnboundLocalError\u001b[0m: cannot access local variable 'pts' where it is not associated with a value"
     ]
    }
   ],
   "source": [
    "\n",
    "barcodes = live_barcode_scanner(2)  # Use 2 for /dev/video2\n",
    "print(\"Detected barcodes:\", barcodes)\n"
   ]
  }
 ],
 "metadata": {
  "kernelspec": {
   "display_name": "venv",
   "language": "python",
   "name": "python3"
  },
  "language_info": {
   "codemirror_mode": {
    "name": "ipython",
    "version": 3
   },
   "file_extension": ".py",
   "mimetype": "text/x-python",
   "name": "python",
   "nbconvert_exporter": "python",
   "pygments_lexer": "ipython3",
   "version": "3.12.3"
  }
 },
 "nbformat": 4,
 "nbformat_minor": 2
}
